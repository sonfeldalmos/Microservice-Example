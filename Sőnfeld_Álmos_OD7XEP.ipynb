{
  "nbformat": 4,
  "nbformat_minor": 0,
  "metadata": {
    "accelerator": "GPU",
    "colab": {
      "name": "Sőnfeld Álmos OD7XEP",
      "provenance": [],
      "collapsed_sections": [],
      "toc_visible": true,
      "include_colab_link": true
    },
    "kernelspec": {
      "display_name": "Python 3",
      "name": "python3"
    }
  },
  "cells": [
    {
      "cell_type": "markdown",
      "metadata": {
        "id": "view-in-github",
        "colab_type": "text"
      },
      "source": [
        "<a href=\"https://colab.research.google.com/github/sonfeldalmos/Microservice-Example/blob/master/S%C5%91nfeld_%C3%81lmos_OD7XEP.ipynb\" target=\"_parent\"><img src=\"https://colab.research.google.com/assets/colab-badge.svg\" alt=\"Open In Colab\"/></a>"
      ]
    },
    {
      "cell_type": "markdown",
      "metadata": {
        "id": "eu6KxedtUL52"
      },
      "source": [
        "# Homework Assignment - Cartoon characters\n",
        "\n",
        "This notebook is the stub you have to fill out for the homework. Read the task description and implement the empty code cells. Each section represents a stage along implementing an image classifier from loading and inspecting the dataset to making something working. The section descriptions contain what to do in that step.\n",
        "\n",
        "\n",
        "Copy this notebook to your drive (File -> Save a copy in Drive), edit it and upload the final ipynb file to [canvas.elte.hu](canvas.elte.hu). If you have your own machine with Jupyter installed, you can work there as well.\n",
        "\n",
        "**Note** Make sure the notebook is using GPU acceleration in Edit -> Notebook settings, otherwise training and evaluation can be very slow.\n",
        "\n",
        "## Task description\n",
        "Your task is to implement a deep learning classifier of charcters from the Simpsons TV show. The dataset has benn preprocessed, each image haivng the same resolution\n",
        "\n",
        "## Rules and Comments\n",
        "- As always, copying others' code will make you fail the course automatically.\n",
        "- Make sure your code can be run from an empty state (use Runtime -> Run all in the menu after restarting the notebook)\n",
        "- To ease grading, please keep all outputs in the notebook before submission.\n",
        "- Feel free to add more code cells as needed. Don't put code into external Python files to help the reviewing.\n",
        "- Please add your name and Neptune ID in the box below for easier identification."
      ]
    },
    {
      "cell_type": "markdown",
      "metadata": {
        "id": "U1cSJ2Nc5-gG"
      },
      "source": [
        "**Name:Álmos Sőnfeld**  \n",
        "**Neptun ID:OD7XEP** "
      ]
    },
    {
      "cell_type": "markdown",
      "metadata": {
        "id": "vnphYcWT6JeG"
      },
      "source": [
        "## Dataset preparations\n",
        "First download the data and extract it:"
      ]
    },
    {
      "cell_type": "code",
      "metadata": {
        "colab": {
          "base_uri": "https://localhost:8080/"
        },
        "id": "NL4VLQ9njejs",
        "outputId": "e861155b-9405-4551-b214-82af9cb613d7"
      },
      "source": [
        "# Downloading the dataset\n",
        "!curl -c ./cookie -s -L \"https://drive.google.com/uc?export=download&id=1QelVmKZNBwcLEwptawOKE76pTBvRGoA3\" > /dev/null\n",
        "!curl -Lb ./cookie \"https://drive.google.com/uc?export=download&confirm=`awk '/download/ {print $NF}' ./cookie`&id=1QelVmKZNBwcLEwptawOKE76pTBvRGoA3\" -o simpsons_dataset_train.pkl\n",
        "\n",
        "!curl -c ./cookie -s -L \"https://drive.google.com/uc?export=download&id=1wAYMLNO2xYJbK_p6z0KAaxea2jw2mkdA\" > /dev/null\n",
        "!curl -Lb ./cookie \"https://drive.google.com/uc?export=download&confirm=`awk '/download/ {print $NF}' ./cookie`&id=1wAYMLNO2xYJbK_p6z0KAaxea2jw2mkdA\" -o simpsons_dataset_test.pkl"
      ],
      "execution_count": null,
      "outputs": [
        {
          "output_type": "stream",
          "text": [
            "  % Total    % Received % Xferd  Average Speed   Time    Time     Time  Current\n",
            "                                 Dload  Upload   Total   Spent    Left  Speed\n",
            "\r  0     0    0     0    0     0      0      0 --:--:-- --:--:-- --:--:--     0\r100   408    0   408    0     0   3813      0 --:--:-- --:--:-- --:--:--  3813\n",
            "  0     0    0     0    0     0      0      0 --:--:-- --:--:-- --:--:--     0\n",
            "  0     0    0     0    0     0      0      0 --:--:-- --:--:-- --:--:--     0\n",
            "100  129M    0  129M    0     0  64.4M      0 --:--:--  0:00:02 --:--:-- 97.2M\n",
            "  % Total    % Received % Xferd  Average Speed   Time    Time     Time  Current\n",
            "                                 Dload  Upload   Total   Spent    Left  Speed\n",
            "100   408    0   408    0     0    280      0 --:--:--  0:00:01 --:--:--   280\n",
            "  0     0    0     0    0     0      0      0 --:--:--  0:00:01 --:--:--     0\n",
            "  0     0    0     0    0     0      0      0 --:--:--  0:00:01 --:--:--     0\n",
            "100 32.4M    0 32.4M    0     0  15.3M      0 --:--:--  0:00:02 --:--:--  102M\n"
          ],
          "name": "stdout"
        }
      ]
    },
    {
      "cell_type": "markdown",
      "metadata": {
        "id": "_9rDKMN66Kmq"
      },
      "source": [
        "This downloads two Python pickle files, one for the training (`simpsons_dataset_train.pkl`) and one for the test set (`simpsons_dataset_test.pkl`). Both files contain a dictionary, the key `features` holds the images, the key `labels` the label ids. You can inspect the downloaded files in the sidebar on the left, under the *Files* tab.  The following code loads the dataset:"
      ]
    },
    {
      "cell_type": "code",
      "metadata": {
        "id": "RaaE-NPG7gYr"
      },
      "source": [
        "import pickle\n",
        "from tensorflow import keras\n",
        "from tensorflow.keras.layers import Dense, Conv2D, BatchNormalization, Activation\n",
        "from tensorflow.keras.layers import AveragePooling2D, Input, Flatten\n",
        "from tensorflow.keras.optimizers import Adam\n",
        "from tensorflow.keras.callbacks import ReduceLROnPlateau\n",
        "from tensorflow.keras.regularizers import l2\n",
        "from tensorflow.keras.models import Model\n",
        "from tensorflow.keras.datasets import cifar10\n",
        "import numpy as np\n",
        "import matplotlib.pyplot as plt\n",
        "import os\n",
        "from sklearn.model_selection import train_test_split\n",
        "with open('simpsons_dataset_test.pkl', 'rb') as f:\n",
        "    test = pickle.load(f)\n",
        "with open('simpsons_dataset_train.pkl', 'rb') as f:\n",
        "    train = pickle.load(f)\n",
        "    \n",
        "x_test, y_test = test['features'], test['labels']\n",
        "x_train, y_train = train['features'], train['labels']\n"
      ],
      "execution_count": null,
      "outputs": []
    },
    {
      "cell_type": "markdown",
      "metadata": {
        "id": "iFXnlWuu7aZk"
      },
      "source": [
        "Notice that the original dataset does not define a validation set, you have to split it yourself. Split the training set into a training and validation set. Make sure in the validation set the classes have a similar distribution to the training set. [1p]\n"
      ]
    },
    {
      "cell_type": "code",
      "metadata": {
        "id": "hTdt4BI976Ye"
      },
      "source": [
        "# ADD YOUR CODE HERE\n",
        "# It should create the variables x_train, y_train, x_valid, y_valid\n",
        "# The training and validation set must be disjoint\n",
        "\n",
        "x_train, x_valid, y_train, y_valid = train_test_split(x_train, y_train, test_size=0.20)"
      ],
      "execution_count": null,
      "outputs": []
    },
    {
      "cell_type": "markdown",
      "metadata": {
        "id": "wCn3biHb782K"
      },
      "source": [
        "Now that you have set up the dataset, it's time to look at some of the images. Create a function that randomly selects 4 images from a class and shows them. [1p]"
      ]
    },
    {
      "cell_type": "code",
      "metadata": {
        "id": "ZHVbjWUw8Ii8"
      },
      "source": [
        "def draw_images(imgs, labels, class_to_draw):\n",
        "    selected = np.random.choice(len(imgs),4)\n",
        "\n",
        "    plt.figure()\n",
        "    for i, ind in enumerate(selected):\n",
        "      plt.subplot(4,1,i+1)\n",
        "      plt.imshow(x_train[ind], cmap='gray')\n",
        "      plt.axis('off')"
      ],
      "execution_count": null,
      "outputs": []
    },
    {
      "cell_type": "code",
      "metadata": {
        "colab": {
          "base_uri": "https://localhost:8080/",
          "height": 248
        },
        "id": "cO-C22Ra8I4q",
        "outputId": "26bddc55-65c2-4036-c1ef-f9604229bb64"
      },
      "source": [
        "# Show some images from class #2\n",
        "draw_images(x_train, y_train, 2)"
      ],
      "execution_count": null,
      "outputs": [
        {
          "output_type": "display_data",
          "data": {
            "image/png": "[encoded data removed]",
            "text/plain": [
              "<Figure size 432x288 with 4 Axes>"
            ]
          },
          "metadata": {
            "tags": [],
            "needs_background": "light"
          }
        }
      ]
    },
    {
      "cell_type": "markdown",
      "metadata": {
        "id": "vYwW2lz78FUo"
      },
      "source": [
        "First, you should normalize the data. Apply a normalisation method of your choice that brings the data around 0, to the scale of 0-1.\n",
        "\n",
        "Note: you may want to convert the datatype of `x_train` and `x_test` to float32 instead of the original uint8. Fractional values are not representable with a `uint8` datatype. [2p]"
      ]
    },
    {
      "cell_type": "code",
      "metadata": {
        "id": "ASLxZUB78bmV"
      },
      "source": [
        "# ADD YOUR CODE HERE\n",
        "# IT SHOULD MODIFY x_train, and x_test the same way\n",
        "x_train = x_train.astype('float32') / 255\n",
        "x_valid = x_valid.astype('float32') / 255\n"
      ],
      "execution_count": null,
      "outputs": []
    },
    {
      "cell_type": "markdown",
      "metadata": {
        "id": "RVKG7o7K8bva"
      },
      "source": [
        "## Training the network\n",
        "\n",
        "Implement and train the following modified LeNet architecture. It has the following layers:\n",
        "\n",
        "- A convolutional layer with 5x5 kernel and 8 filters\n",
        "- An AveragePooling layer\n",
        "- A convolutional layer with 3x3 kernel and 16 filters\n",
        "- An AveragePooling layer\n",
        "- A fully connected layer of 100 units\n",
        "- A fully connected layer of 60 units\n",
        "- A fully connected layer with softmax activation, having the same number of units as classes\n",
        "\n",
        "All layers have ReLU activations. \n",
        "\n",
        "How many parameters does this network have? [2p]  \n",
        "Álmos Sőnfeld's answer:\n",
        "Total params: 322,146\n",
        "Trainable params: 322,146\n",
        "Non-trainable params: 0\n",
        "\n",
        "**Write your answer here**\n",
        "\n",
        "Now train the network for 50 epochs. [6p]"
      ]
    },
    {
      "cell_type": "code",
      "metadata": {
        "colab": {
          "base_uri": "https://localhost:8080/"
        },
        "id": "eS-XgGC05wzl",
        "outputId": "0b28d6f3-003b-4bba-c324-94400e06258f"
      },
      "source": [
        "from tensorflow.keras.layers import Dense,AveragePooling2D\n",
        "\n",
        "model = keras.Sequential()\n",
        "\n",
        "# The first convolutional layer\n",
        "model.add(Conv2D(filters=8, kernel_size=(5,5), input_shape=(64, 64, 3), activation='relu'))        \n",
        "model.add(AveragePooling2D(pool_size=(2,2))) \n",
        "\n",
        "# The second convolutional layer\n",
        "model.add(Conv2D(filters=16, kernel_size=(3,3), activation='relu'))\n",
        "model.add(AveragePooling2D(pool_size=(2,2)))\n",
        "\n",
        "model.add(Flatten()),\n",
        "model.add(Dense(100, activation='relu'))\n",
        "model.add(Dense(60, activation='relu'))\n",
        "model.add(Dense(10, activation='softmax'))\n",
        "model.summary()\n",
        "\n",
        "model.compile(optimizer='adam',loss='sparse_categorical_crossentropy', metrics=['accuracy']) \n",
        "\n",
        "history = model.fit(x_train, y_train, epochs=50, validation_data=(x_valid, y_valid)) \n"
      ],
      "execution_count": null,
      "outputs": [
        {
          "output_type": "stream",
          "text": [
            "Model: \"sequential_1\"\n",
            "_________________________________________________________________\n",
            "Layer (type)                 Output Shape              Param #   \n",
            "=================================================================\n",
            "conv2d_2 (Conv2D)            (None, 60, 60, 8)         608       \n",
            "_________________________________________________________________\n",
            "average_pooling2d_2 (Average (None, 30, 30, 8)         0         \n",
            "_________________________________________________________________\n",
            "conv2d_3 (Conv2D)            (None, 28, 28, 16)        1168      \n",
            "_________________________________________________________________\n",
            "average_pooling2d_3 (Average (None, 14, 14, 16)        0         \n",
            "_________________________________________________________________\n",
            "flatten_1 (Flatten)          (None, 3136)              0         \n",
            "_________________________________________________________________\n",
            "dense_3 (Dense)              (None, 100)               313700    \n",
            "_________________________________________________________________\n",
            "dense_4 (Dense)              (None, 60)                6060      \n",
            "_________________________________________________________________\n",
            "dense_5 (Dense)              (None, 10)                610       \n",
            "=================================================================\n",
            "Total params: 322,146\n",
            "Trainable params: 322,146\n",
            "Non-trainable params: 0\n",
            "_________________________________________________________________\n",
            "Epoch 1/50\n",
            "277/277 [==============================] - 32s 6ms/step - loss: 2.0096 - accuracy: 0.2845 - val_loss: 1.4821 - val_accuracy: 0.5038\n",
            "Epoch 2/50\n",
            "277/277 [==============================] - 1s 5ms/step - loss: 1.3694 - accuracy: 0.5416 - val_loss: 1.3029 - val_accuracy: 0.5763\n",
            "Epoch 3/50\n",
            "277/277 [==============================] - 1s 5ms/step - loss: 1.1076 - accuracy: 0.6381 - val_loss: 1.1775 - val_accuracy: 0.6143\n",
            "Epoch 4/50\n",
            "277/277 [==============================] - 1s 5ms/step - loss: 0.9238 - accuracy: 0.6947 - val_loss: 1.1844 - val_accuracy: 0.6080\n",
            "Epoch 5/50\n",
            "277/277 [==============================] - 1s 5ms/step - loss: 0.7400 - accuracy: 0.7635 - val_loss: 1.1180 - val_accuracy: 0.6596\n",
            "Epoch 6/50\n",
            "277/277 [==============================] - 1s 5ms/step - loss: 0.5876 - accuracy: 0.8022 - val_loss: 1.1027 - val_accuracy: 0.6736\n",
            "Epoch 7/50\n",
            "277/277 [==============================] - 1s 5ms/step - loss: 0.4617 - accuracy: 0.8473 - val_loss: 1.1367 - val_accuracy: 0.6781\n",
            "Epoch 8/50\n",
            "277/277 [==============================] - 1s 5ms/step - loss: 0.4030 - accuracy: 0.8756 - val_loss: 1.1859 - val_accuracy: 0.6958\n",
            "Epoch 9/50\n",
            "277/277 [==============================] - 1s 5ms/step - loss: 0.2574 - accuracy: 0.9237 - val_loss: 1.3429 - val_accuracy: 0.6904\n",
            "Epoch 10/50\n",
            "277/277 [==============================] - 1s 5ms/step - loss: 0.1953 - accuracy: 0.9381 - val_loss: 1.3817 - val_accuracy: 0.7030\n",
            "Epoch 11/50\n",
            "277/277 [==============================] - 1s 5ms/step - loss: 0.1503 - accuracy: 0.9529 - val_loss: 1.4523 - val_accuracy: 0.7017\n",
            "Epoch 12/50\n",
            "277/277 [==============================] - 1s 5ms/step - loss: 0.1067 - accuracy: 0.9672 - val_loss: 1.5622 - val_accuracy: 0.7053\n",
            "Epoch 13/50\n",
            "277/277 [==============================] - 1s 5ms/step - loss: 0.1301 - accuracy: 0.9597 - val_loss: 1.6784 - val_accuracy: 0.6885\n",
            "Epoch 14/50\n",
            "277/277 [==============================] - 1s 5ms/step - loss: 0.0787 - accuracy: 0.9765 - val_loss: 1.8116 - val_accuracy: 0.7067\n",
            "Epoch 15/50\n",
            "277/277 [==============================] - 1s 5ms/step - loss: 0.0538 - accuracy: 0.9837 - val_loss: 1.8601 - val_accuracy: 0.6999\n",
            "Epoch 16/50\n",
            "277/277 [==============================] - 1s 5ms/step - loss: 0.0948 - accuracy: 0.9676 - val_loss: 1.9103 - val_accuracy: 0.7166\n",
            "Epoch 17/50\n",
            "277/277 [==============================] - 1s 5ms/step - loss: 0.1022 - accuracy: 0.9664 - val_loss: 1.9134 - val_accuracy: 0.6967\n",
            "Epoch 18/50\n",
            "277/277 [==============================] - 1s 5ms/step - loss: 0.0474 - accuracy: 0.9853 - val_loss: 2.0677 - val_accuracy: 0.7017\n",
            "Epoch 19/50\n",
            "277/277 [==============================] - 1s 5ms/step - loss: 0.0403 - accuracy: 0.9894 - val_loss: 2.0374 - val_accuracy: 0.6922\n",
            "Epoch 20/50\n",
            "277/277 [==============================] - 1s 5ms/step - loss: 0.0661 - accuracy: 0.9808 - val_loss: 2.0755 - val_accuracy: 0.7098\n",
            "Epoch 21/50\n",
            "277/277 [==============================] - 1s 5ms/step - loss: 0.0278 - accuracy: 0.9903 - val_loss: 2.1944 - val_accuracy: 0.7067\n",
            "Epoch 22/50\n",
            "277/277 [==============================] - 1s 5ms/step - loss: 0.0533 - accuracy: 0.9819 - val_loss: 2.2696 - val_accuracy: 0.7094\n",
            "Epoch 23/50\n",
            "277/277 [==============================] - 1s 5ms/step - loss: 0.0344 - accuracy: 0.9885 - val_loss: 2.2796 - val_accuracy: 0.7085\n",
            "Epoch 24/50\n",
            "277/277 [==============================] - 1s 5ms/step - loss: 0.0664 - accuracy: 0.9793 - val_loss: 2.2393 - val_accuracy: 0.6940\n",
            "Epoch 25/50\n",
            "277/277 [==============================] - 1s 5ms/step - loss: 0.0281 - accuracy: 0.9906 - val_loss: 2.4124 - val_accuracy: 0.7107\n",
            "Epoch 26/50\n",
            "277/277 [==============================] - 1s 5ms/step - loss: 0.0885 - accuracy: 0.9714 - val_loss: 2.2693 - val_accuracy: 0.7098\n",
            "Epoch 27/50\n",
            "277/277 [==============================] - 1s 5ms/step - loss: 0.0383 - accuracy: 0.9869 - val_loss: 2.3203 - val_accuracy: 0.6994\n",
            "Epoch 28/50\n",
            "277/277 [==============================] - 1s 5ms/step - loss: 0.0147 - accuracy: 0.9953 - val_loss: 2.3893 - val_accuracy: 0.7180\n",
            "Epoch 29/50\n",
            "277/277 [==============================] - 1s 5ms/step - loss: 0.0223 - accuracy: 0.9934 - val_loss: 2.4450 - val_accuracy: 0.6985\n",
            "Epoch 30/50\n",
            "277/277 [==============================] - 1s 5ms/step - loss: 0.0452 - accuracy: 0.9866 - val_loss: 2.7459 - val_accuracy: 0.6863\n",
            "Epoch 31/50\n",
            "277/277 [==============================] - 1s 5ms/step - loss: 0.0559 - accuracy: 0.9784 - val_loss: 2.6640 - val_accuracy: 0.7053\n",
            "Epoch 32/50\n",
            "277/277 [==============================] - 1s 5ms/step - loss: 0.0308 - accuracy: 0.9924 - val_loss: 2.6072 - val_accuracy: 0.7012\n",
            "Epoch 33/50\n",
            "277/277 [==============================] - 1s 5ms/step - loss: 0.0216 - accuracy: 0.9927 - val_loss: 2.5909 - val_accuracy: 0.7044\n",
            "Epoch 34/50\n",
            "277/277 [==============================] - 1s 5ms/step - loss: 0.0239 - accuracy: 0.9928 - val_loss: 2.8719 - val_accuracy: 0.6845\n",
            "Epoch 35/50\n",
            "277/277 [==============================] - 1s 5ms/step - loss: 0.0353 - accuracy: 0.9868 - val_loss: 2.7671 - val_accuracy: 0.6908\n",
            "Epoch 36/50\n",
            "277/277 [==============================] - 1s 5ms/step - loss: 0.0549 - accuracy: 0.9811 - val_loss: 2.7654 - val_accuracy: 0.6917\n",
            "Epoch 37/50\n",
            "277/277 [==============================] - 1s 5ms/step - loss: 0.0493 - accuracy: 0.9852 - val_loss: 2.5692 - val_accuracy: 0.7062\n",
            "Epoch 38/50\n",
            "277/277 [==============================] - 1s 5ms/step - loss: 0.0139 - accuracy: 0.9956 - val_loss: 2.7307 - val_accuracy: 0.6981\n",
            "Epoch 39/50\n",
            "277/277 [==============================] - 1s 5ms/step - loss: 0.1041 - accuracy: 0.9709 - val_loss: 2.5983 - val_accuracy: 0.7003\n",
            "Epoch 40/50\n",
            "277/277 [==============================] - 1s 5ms/step - loss: 0.0217 - accuracy: 0.9932 - val_loss: 2.7983 - val_accuracy: 0.6994\n",
            "Epoch 41/50\n",
            "277/277 [==============================] - 1s 5ms/step - loss: 0.0120 - accuracy: 0.9961 - val_loss: 2.6838 - val_accuracy: 0.7107\n",
            "Epoch 42/50\n",
            "277/277 [==============================] - 1s 5ms/step - loss: 8.7379e-04 - accuracy: 0.9999 - val_loss: 2.8018 - val_accuracy: 0.7153\n",
            "Epoch 43/50\n",
            "277/277 [==============================] - 1s 5ms/step - loss: 2.8703e-04 - accuracy: 1.0000 - val_loss: 2.8463 - val_accuracy: 0.7166\n",
            "Epoch 44/50\n",
            "277/277 [==============================] - 1s 5ms/step - loss: 2.0644e-04 - accuracy: 1.0000 - val_loss: 2.8926 - val_accuracy: 0.7202\n",
            "Epoch 45/50\n",
            "277/277 [==============================] - 1s 5ms/step - loss: 1.4830e-04 - accuracy: 1.0000 - val_loss: 2.9326 - val_accuracy: 0.7220\n",
            "Epoch 46/50\n",
            "277/277 [==============================] - 1s 5ms/step - loss: 1.3696e-04 - accuracy: 1.0000 - val_loss: 2.9655 - val_accuracy: 0.7225\n",
            "Epoch 47/50\n",
            "277/277 [==============================] - 1s 5ms/step - loss: 1.1392e-04 - accuracy: 1.0000 - val_loss: 3.0045 - val_accuracy: 0.7207\n",
            "Epoch 48/50\n",
            "277/277 [==============================] - 1s 5ms/step - loss: 8.7584e-05 - accuracy: 1.0000 - val_loss: 3.0375 - val_accuracy: 0.7189\n",
            "Epoch 49/50\n",
            "277/277 [==============================] - 1s 5ms/step - loss: 8.0776e-05 - accuracy: 1.0000 - val_loss: 3.0666 - val_accuracy: 0.7189\n",
            "Epoch 50/50\n",
            "277/277 [==============================] - 1s 5ms/step - loss: 6.1648e-05 - accuracy: 1.0000 - val_loss: 3.0994 - val_accuracy: 0.7198\n"
          ],
          "name": "stdout"
        }
      ]
    },
    {
      "cell_type": "markdown",
      "metadata": {
        "id": "0cACO2vD8q8Y"
      },
      "source": [
        "\n",
        "\n",
        "```\n",
        "# Ez kódként van formázva\n",
        "```\n",
        "\n",
        "Now that the model has finished training, plot the accuracy and loss over time, both for the training and the validation data [1p]:"
      ]
    },
    {
      "cell_type": "code",
      "metadata": {
        "colab": {
          "base_uri": "https://localhost:8080/",
          "height": 295
        },
        "id": "1plOKwWd8rH3",
        "outputId": "b97bdf49-59d8-47e6-dd48-2ea538a49d16"
      },
      "source": [
        "plt.figure(figsize=(9,4))\n",
        "\n",
        "plt.subplot(1,2,1)\n",
        "plt.plot(history.history['accuracy'])\n",
        "plt.plot(history.history['val_accuracy'])\n",
        "plt.title('Model accuracy')\n",
        "plt.ylabel('Accuracy')\n",
        "plt.xlabel('Epoch')\n",
        "plt.legend(['Train accuracy', 'Test accuracy'], loc='upper left')\n",
        "\n",
        "# Plot training & validation loss values\n",
        "plt.subplot(1,2,2)\n",
        "plt.plot(history.history['loss'])\n",
        "plt.plot(history.history['val_loss'])\n",
        "plt.title('Model loss')\n",
        "plt.ylabel('Loss')\n",
        "plt.xlabel('Epoch')\n",
        "plt.legend(['Train loss', 'Test loss'], loc='upper left')\n",
        "plt.show()"
      ],
      "execution_count": null,
      "outputs": [
        {
          "output_type": "display_data",
          "data": {
            "image/png": "[encoded data removed]",
            "text/plain": [
              "<Figure size 648x288 with 2 Axes>"
            ]
          },
          "metadata": {
            "tags": [],
            "needs_background": "light"
          }
        }
      ]
    },
    {
      "cell_type": "markdown",
      "metadata": {
        "id": "3hSkr8Aq8rcz"
      },
      "source": [
        "How did the loss and accuracy curves change over time? What does it mean regarding the training process (i.e. overfit, underfit, etc.)? Is that a problem and how would you solve it? [3p]\n",
        "\n",
        "**Write your answers below**\n",
        "From the first diagram it can be seen that the accuracy on the train data set is converging to 1, yet the accuracy on the validation(test on the diagramm) can not follow this trend the limit of the validation accuracy is around 0.7.\n",
        "\n",
        "From the second diagram it can be seen that the loss on the train data set is converge to 0 yet the loss on the validation dataset does not follow this trend. After 50 epoch it raches 3.0.\n",
        "\n",
        "From this two diagramm it can be seen that the modell is overfitted to the training set.\n",
        "\n",
        "With data augmentation the result might be more optimized\n"
      ]
    },
    {
      "cell_type": "markdown",
      "metadata": {
        "id": "hOWb1-kh84M1"
      },
      "source": [
        "Finally, calculate the performance of your model on the test set [1p]:"
      ]
    },
    {
      "cell_type": "code",
      "metadata": {
        "colab": {
          "base_uri": "https://localhost:8080/"
        },
        "id": "jMmxLOro8rs6",
        "outputId": "9cd00e3a-54f3-4b7b-ee44-d07b00b4b725"
      },
      "source": [
        "# ADD YOUR CODE HERE\n",
        "loss, acc = model.evaluate(x_test, y_test, verbose=0)\n",
        "\n",
        "print('Test loss: {}'.format(loss))\n",
        "print('Test accuracy: {:.2%}'.format(acc))"
      ],
      "execution_count": null,
      "outputs": [
        {
          "output_type": "stream",
          "text": [
            "Test loss: 955.610107421875\n",
            "Test accuracy: 66.46%\n"
          ],
          "name": "stdout"
        }
      ]
    },
    {
      "cell_type": "markdown",
      "metadata": {
        "id": "g6ZfnvdbAJj7"
      },
      "source": [
        "## Improving the method\n",
        "\n",
        "Add augmentations to the model, and retrain the network! Plot the training curves as well. [4p]"
      ]
    },
    {
      "cell_type": "code",
      "metadata": {
        "colab": {
          "base_uri": "https://localhost:8080/",
          "height": 129
        },
        "id": "yO6bNgAmjBD8",
        "outputId": "8461277b-898f-4b18-df29-51a5aeafa5d9"
      },
      "source": [
        "x_trainAug, x_valid, y_trainAug, y_validAug=train_test_split(x_train, y_train, test_size=0.20)\n",
        "train_datagen = ImageDataGenerator(\n",
        "    rescale=1./255,\n",
        "    rotation_range=40,\n",
        "    width_shift_range=0.2,\n",
        "    height_shift_range=0.2,\n",
        "    shear_range=0.2,\n",
        "    zoom_range=0.2,\n",
        "    horizontal_flip=True,)\n",
        "train_generator = train_datagen.\n",
        "validation_generator = test_datagen.flow(x_valid)\n",
        "\n",
        "history = model.fit_generator(\n",
        "      train_generator,\n",
        "      steps_per_epoch=100,\n",
        "      epochs=100,\n",
        "      validation_data=validation_generator,\n",
        "      validation_steps=50)"
      ],
      "execution_count": null,
      "outputs": [
        {
          "output_type": "error",
          "ename": "SyntaxError",
          "evalue": "ignored",
          "traceback": [
            "\u001b[0;36m  File \u001b[0;32m\"<ipython-input-12-e504fb99471f>\"\u001b[0;36m, line \u001b[0;32m12\u001b[0m\n\u001b[0;31m    train_generator = train_datagen.\u001b[0m\n\u001b[0m                                    ^\u001b[0m\n\u001b[0;31mSyntaxError\u001b[0m\u001b[0;31m:\u001b[0m invalid syntax\n"
          ]
        }
      ]
    },
    {
      "cell_type": "markdown",
      "metadata": {
        "id": "IUwRKgy9_2v0"
      },
      "source": [
        "## Conclusions\n",
        "\n",
        "You have trianed two models (one with augmentations and one without any). Compare their results. Write a couple of sentences which one would you choose and why. [3p]\n",
        "\n",
        "In theory the augmented modell is performing better than the one without augmentations. The main reason is that the first modell was overfitted because the too few data. \n",
        "\n",
        "After the augmentation the number of the data is increased a lot thus the modell can train on more data and thus can performe better.\n",
        "\n",
        "I would prefere to use the one with augmentation beacouse of its robustness."
      ]
    }
  ]
}